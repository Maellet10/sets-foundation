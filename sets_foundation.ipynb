{
  "nbformat": 4,
  "nbformat_minor": 0,
  "metadata": {
    "colab": {
      "provenance": [],
      "authorship_tag": "ABX9TyO9mQFmAcomyfjgrS3VTWZ/",
      "include_colab_link": true
    },
    "kernelspec": {
      "name": "python3",
      "display_name": "Python 3"
    },
    "language_info": {
      "name": "python"
    }
  },
  "cells": [
    {
      "cell_type": "markdown",
      "metadata": {
        "id": "view-in-github",
        "colab_type": "text"
      },
      "source": [
        "<a href=\"https://colab.research.google.com/github/Maellet10/sets-foundation/blob/main/sets_foundation.ipynb\" target=\"_parent\"><img src=\"https://colab.research.google.com/assets/colab-badge.svg\" alt=\"Open In Colab\"/></a>"
      ]
    },
    {
      "cell_type": "markdown",
      "source": [
        "# **Python3** Set, Deep Dive Course"
      ],
      "metadata": {
        "id": "oASYwqy-lWeq"
      }
    },
    {
      "cell_type": "markdown",
      "source": [
        "###Python Set Deep Dive Course Structure"
      ],
      "metadata": {
        "id": "QevaSWeNmjsB"
      }
    },
    {
      "cell_type": "markdown",
      "source": [],
      "metadata": {
        "id": "5KToLYFDmxBi"
      }
    },
    {
      "cell_type": "markdown",
      "source": [
        "## Definition of a **Set ()**?"
      ],
      "metadata": {
        "id": "-ZaCFQDUmQYP"
      }
    },
    {
      "cell_type": "markdown",
      "source": [
        "## Creating a Set() in Python3\n"
      ],
      "metadata": {
        "id": "Yb7EIemynJn-"
      }
    },
    {
      "cell_type": "markdown",
      "source": [
        "###Creating a set using the Curly Braces {}\n"
      ],
      "metadata": {
        "id": "dqpzLAjinjTj"
      }
    },
    {
      "cell_type": "code",
      "source": [
        "my_scores = {10, 30, 20, 30, 40, 99, 100, 30}\n",
        "print(my_scores)"
      ],
      "metadata": {
        "colab": {
          "base_uri": "https://localhost:8080/"
        },
        "id": "0nZOkGLZn0R8",
        "outputId": "b585bdd7-b739-4008-c46e-9887140a277e"
      },
      "execution_count": null,
      "outputs": [
        {
          "output_type": "stream",
          "name": "stdout",
          "text": [
            "{99, 100, 40, 10, 20, 30}\n"
          ]
        }
      ]
    },
    {
      "cell_type": "markdown",
      "source": [
        "### Creating an empty set using the built-in set() function\n"
      ],
      "metadata": {
        "id": "afkqPISZoVH0"
      }
    },
    {
      "cell_type": "code",
      "source": [
        "my_scores = set()\n",
        "print(my_scores)\n",
        "print(len(my_scores))"
      ],
      "metadata": {
        "colab": {
          "base_uri": "https://localhost:8080/"
        },
        "id": "KwpdFsZCojmI",
        "outputId": "91bc58a8-28de-43c1-b6bc-ca59d5eb67fa"
      },
      "execution_count": null,
      "outputs": [
        {
          "output_type": "stream",
          "name": "stdout",
          "text": [
            "set()\n",
            "0\n"
          ]
        }
      ]
    }
  ]
}